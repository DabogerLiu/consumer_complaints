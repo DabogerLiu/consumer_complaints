{
  "nbformat": 4,
  "nbformat_minor": 0,
  "metadata": {
    "colab": {
      "name": "report.ipynb",
      "provenance": [],
      "collapsed_sections": [],
      "toc_visible": true,
      "authorship_tag": "ABX9TyMFrc7RGVL4G61a6yLPAYkh",
      "include_colab_link": true
    },
    "kernelspec": {
      "name": "python3",
      "display_name": "Python 3"
    }
  },
  "cells": [
    {
      "cell_type": "markdown",
      "metadata": {
        "id": "view-in-github",
        "colab_type": "text"
      },
      "source": [
        "<a href=\"https://colab.research.google.com/github/DabogerLiu/consumer_complaints/blob/master/report.ipynb\" target=\"_parent\"><img src=\"https://colab.research.google.com/assets/colab-badge.svg\" alt=\"Open In Colab\"/></a>"
      ]
    },
    {
      "cell_type": "code",
      "metadata": {
        "id": "uPSiPzajJfpO",
        "colab_type": "code",
        "colab": {}
      },
      "source": [
        "#Adding python library \n",
        "import numpy as np\n",
        "import pandas as pd\n",
        "# Read the datasets\n",
        "data_dir = '/content/'\n",
        "complains = pd.read_csv( data_dir+'complaints.csv' )"
      ],
      "execution_count": 0,
      "outputs": []
    },
    {
      "cell_type": "code",
      "metadata": {
        "id": "rp6zqqneQwKX",
        "colab_type": "code",
        "colab": {}
      },
      "source": [
        ""
      ],
      "execution_count": 0,
      "outputs": []
    },
    {
      "cell_type": "code",
      "metadata": {
        "id": "6S18-gxhQXI0",
        "colab_type": "code",
        "outputId": "89ee58a1-8325-4dcc-c5db-f9f43e214b9d",
        "colab": {
          "base_uri": "https://localhost:8080/",
          "height": 476
        }
      },
      "source": [
        "#Change time format from M/D/Y to Year\n",
        "complains['Date received'] =  pd.to_datetime(complains['Date received']).dt.to_period('Y')\n",
        "print(complains)\n",
        "print(complains.dtypes)\n",
        " \n"
      ],
      "execution_count": 0,
      "outputs": [
        {
          "output_type": "stream",
          "text": [
            "  Date received  ... Complaint ID\n",
            "0          2019  ...      3384392\n",
            "1          2019  ...      3379500\n",
            "2          2020  ...      3486776\n",
            "3          2019  ...      3416481\n",
            "4          2019  ...      3444592\n",
            "\n",
            "[5 rows x 18 columns]\n",
            "Date received                   period[A-DEC]\n",
            "Product                                object\n",
            "Sub-product                            object\n",
            "Issue                                  object\n",
            "Sub-issue                              object\n",
            "Consumer complaint narrative           object\n",
            "Company public response                object\n",
            "Company                                object\n",
            "State                                  object\n",
            "ZIP code                               object\n",
            "Tags                                  float64\n",
            "Consumer consent provided?             object\n",
            "Submitted via                          object\n",
            "Date sent to company                   object\n",
            "Company response to consumer           object\n",
            "Timely response?                       object\n",
            "Consumer disputed?                    float64\n",
            "Complaint ID                            int64\n",
            "dtype: object\n"
          ],
          "name": "stdout"
        }
      ]
    },
    {
      "cell_type": "code",
      "metadata": {
        "id": "2v0U9LwWQ7TA",
        "colab_type": "code",
        "outputId": "ff143911-51b1-4a5a-eb86-c5a5a928d71c",
        "colab": {
          "base_uri": "https://localhost:8080/",
          "height": 173
        }
      },
      "source": [
        "def max_percent(x):\n",
        "    return 100 * x.value_counts().max()/x.count()\n",
        "\n",
        "report = complains.groupby(['Product','Date received']).agg(\n",
        "    {   \n",
        "        \n",
        "        'Product':'size',\n",
        "        'Company': ['nunique',max_percent]\n",
        "    }\n",
        ")\n",
        "\n",
        "print(report)\n",
        "\n"
      ],
      "execution_count": 0,
      "outputs": [
        {
          "output_type": "stream",
          "text": [
            "                                                                 Product  ...     Company\n",
            "                                                                    size  ... max_percent\n",
            "Product                                            Date received          ...            \n",
            "Credit reporting, credit repair services, or ot... 2019                3  ...   66.666667\n",
            "                                                   2020                1  ...  100.000000\n",
            "Debt collection                                    2019                1  ...  100.000000\n",
            "\n",
            "[3 rows x 3 columns]\n"
          ],
          "name": "stdout"
        }
      ]
    },
    {
      "cell_type": "markdown",
      "metadata": {
        "id": "v2JSO2p8Zkgz",
        "colab_type": "text"
      },
      "source": [
        ""
      ]
    },
    {
      "cell_type": "code",
      "metadata": {
        "id": "zDqB4Ia8Qxbc",
        "colab_type": "code",
        "outputId": "bc914994-db2d-4478-f5a1-ec1e9837e080",
        "colab": {
          "base_uri": "https://localhost:8080/",
          "height": 88
        }
      },
      "source": [
        "#Read CSV file\n",
        "import csv\n",
        "from collections import Counter\n",
        "\n",
        "def csv_dict_list(variables_file):\n",
        "     \n",
        "    # Open variable-based csv, iterate over the rows and map values to a list of dictionaries containing key/value pairs\n",
        " \n",
        "    reader = csv.DictReader(open(variables_file))\n",
        "    dict_list = []\n",
        "    for line in reader:\n",
        "        dict_list.append(line)\n",
        "    return dict_list\n",
        "\n",
        "\n",
        "complains = csv_dict_list('/content/complaints.csv')\n",
        "print(complains[0])\n",
        "\n",
        "print(complains[1]['Date received'][0:4])\n",
        "\n",
        "print(complains[2]['Product'])"
      ],
      "execution_count": 0,
      "outputs": [
        {
          "output_type": "stream",
          "text": [
            "OrderedDict([('Date received', '2019-09-24'), ('Product', 'Debt collection'), ('Sub-product', 'I do not know'), ('Issue', 'Attempts to collect debt not owed'), ('Sub-issue', 'Debt is not yours'), ('Consumer complaint narrative', 'transworld systems inc. is trying to collect a debt that is not mine, not owed and is inaccurate.'), ('Company public response', ''), ('Company', 'TRANSWORLD SYSTEMS INC'), ('State', 'FL'), ('ZIP code', '335XX'), ('Tags', ''), ('Consumer consent provided?', 'Consent provided'), ('Submitted via', 'Web'), ('Date sent to company', '2019-09-24'), ('Company response to consumer', 'Closed with explanation'), ('Timely response?', 'Yes'), ('Consumer disputed?', 'N/A'), ('Complaint ID', '3384392')])\n",
            "2019\n",
            "Credit reporting, credit repair services, or other personal consumer reports\n"
          ],
          "name": "stdout"
        }
      ]
    },
    {
      "cell_type": "code",
      "metadata": {
        "id": "LEsuthQbXmm0",
        "colab_type": "code",
        "outputId": "af0c5feb-38f3-406e-81bd-01fbaaa977af",
        "colab": {
          "base_uri": "https://localhost:8080/",
          "height": 68
        }
      },
      "source": [
        "report = {}\n",
        "report[0] = {}\n",
        "report[0]['Product']=complains[0]['Product']\n",
        "report[0]['Year'] = complains[0]['Date received'][0:4]\n",
        "report[0]['Total_complains'] = 1\n",
        "\n",
        "i,j = 1,0\n",
        "#print(len(report))\n",
        "while (i < len(complains)):\n",
        "  added = False\n",
        "  for index in range(len(report)):\n",
        "    if (report[index]['Product'] == complains[i]['Product'])&(report[index]['Year'] == complains[i]['Date received'][0:4]):\n",
        "      report[index]['Total_complains'] = report[index]['Total_complains']+1\n",
        "      added = True\n",
        "      break\n",
        "  if not added:            #Do not add 1 \n",
        "    j = j + 1\n",
        "    report[j] = {}\n",
        "    report[j]['Product']= complains[i]['Product']\n",
        "    report[j]['Year']=complains[i]['Date received'][0:4]\n",
        "    report[j]['Total_complains']=1\n",
        "  i = i+1\n",
        "\n",
        "#print(len(report))\n",
        "for i in range(len(report)):\n",
        "  print(report[i])"
      ],
      "execution_count": 0,
      "outputs": [
        {
          "output_type": "stream",
          "text": [
            "{'Product': 'Debt collection', 'Year': '2019', 'Total_complains': 1}\n",
            "{'Product': 'Credit reporting, credit repair services, or other personal consumer reports', 'Year': '2019', 'Total_complains': 3}\n",
            "{'Product': 'Credit reporting, credit repair services, or other personal consumer reports', 'Year': '2020', 'Total_complains': 1}\n"
          ],
          "name": "stdout"
        }
      ]
    },
    {
      "cell_type": "code",
      "metadata": {
        "id": "nhalsoyLSMFW",
        "colab_type": "code",
        "colab": {}
      },
      "source": [
        "ListsofCompany = []\n",
        "for i in range(len(report)):\n",
        "  company=[]\n",
        "  for j in range(len(complains)):\n",
        "    if (report[i]['Product'] == complains[j]['Product'])&(report[i]['Year'] == complains[j]['Date received'][0:4]):\n",
        "      company.append(complains[j]['Company'])\n",
        "  ListsofCompany.append(company)\n",
        "\n",
        "\n",
        "\n"
      ],
      "execution_count": 0,
      "outputs": []
    },
    {
      "cell_type": "code",
      "metadata": {
        "id": "7Qb9e67Yj2bO",
        "colab_type": "code",
        "colab": {}
      },
      "source": [
        "for i in range(len(report)):\n",
        "  report[i]['Total_company']= len(Counter(ListsofCompany[i]).keys())\n",
        "  report[i]['max_frequency_company'] = round(max(Counter(ListsofCompany[i]).values())*100/report[i]['Total_complains'])\n"
      ],
      "execution_count": 0,
      "outputs": []
    },
    {
      "cell_type": "code",
      "metadata": {
        "id": "uXEz6wV0kj78",
        "colab_type": "code",
        "outputId": "493b22c1-2e1e-45b2-8788-5d0f3a9c72ad",
        "colab": {
          "base_uri": "https://localhost:8080/",
          "height": 88
        }
      },
      "source": [
        "for i in range(len(report)):\n",
        "  print(report[i])"
      ],
      "execution_count": 0,
      "outputs": [
        {
          "output_type": "stream",
          "text": [
            "{'Product': 'Debt collection', 'Year': '2019', 'Total_complains': 1, 'Total_company': 1, 'max_frequency_company': 100}\n",
            "{'Product': 'Credit reporting, credit repair services, or other personal consumer reports', 'Year': '2019', 'Total_complains': 3, 'Total_company': 2, 'max_frequency_company': 67}\n",
            "{'Product': 'Credit reporting, credit repair services, or other personal consumer reports', 'Year': '2020', 'Total_complains': 1, 'Total_company': 1, 'max_frequency_company': 100}\n"
          ],
          "name": "stdout"
        }
      ]
    },
    {
      "cell_type": "code",
      "metadata": {
        "id": "zAcQrA06l5w1",
        "colab_type": "code",
        "outputId": "68365e1d-4e75-48c4-f12e-5c329f0451e7",
        "colab": {
          "base_uri": "https://localhost:8080/",
          "height": 51
        }
      },
      "source": [
        "Product = list()\n",
        "Year = list()\n",
        "Total_complains = list()\n",
        "Total_company = list()\n",
        "max_frequency_company = list()\n",
        "for i in range(len(report)):\n",
        "  Product.append(report[i]['Product'])\n",
        "  Year.append(report[i]['Year'])\n",
        "  Total_complains.append(report[i]['Total_complains'])\n",
        "  Total_company.append(report[i]['Total_company'])\n",
        "  max_frequency_company.append(report[i]['max_frequency_company'])\n",
        "#sorted_Product = sorted(Product)\n",
        "#print(sorted_Product)\n",
        "sorted_index = sorted(range(len(Product)),key=Product.__getitem__)  #get the index list \n",
        "print(sorted_index)\n",
        "sorted_Product = sorted(Product)\n",
        "\n",
        "print(sorted_index[2])\n",
        "#print(max_frequency_company[sorted_index[2]])\n",
        "\n",
        "\n",
        "  \n"
      ],
      "execution_count": 0,
      "outputs": [
        {
          "output_type": "stream",
          "text": [
            "[1, 2, 0]\n",
            "0\n"
          ],
          "name": "stdout"
        }
      ]
    },
    {
      "cell_type": "code",
      "metadata": {
        "id": "Okf61Gvq-G1E",
        "colab_type": "code",
        "outputId": "b06fdb6b-f97a-4cb4-ef45-3cefd3ca76ff",
        "colab": {
          "base_uri": "https://localhost:8080/",
          "height": 68
        }
      },
      "source": [
        "sorted_Year = list()\n",
        "sorted_Total_complains = list()\n",
        "sorted_Total_company = list()\n",
        "sorted_max_frequency_company = list()\n",
        "\n",
        "for index in range(len(report)):\n",
        "  sorted_Year.append(Year[sorted_index[index]])\n",
        "  sorted_Total_complains.append(Total_complains[sorted_index[index]])\n",
        "  sorted_Total_company.append(Total_company[sorted_index[index]])\n",
        "  sorted_max_frequency_company.append(max_frequency_company[sorted_index[index]])\n",
        "\n",
        "for i in range(len(report)):\n",
        "  print(sorted_Product[i],sorted_Year[i], sorted_Total_complains[i],sorted_Total_company[i],sorted_max_frequency_company[i])\n",
        "\n",
        "  \n",
        "\n",
        "\n",
        "\n"
      ],
      "execution_count": 68,
      "outputs": [
        {
          "output_type": "stream",
          "text": [
            "Credit reporting, credit repair services, or other personal consumer reports 2019 3 2 67\n",
            "Credit reporting, credit repair services, or other personal consumer reports 2020 1 1 100\n",
            "Debt collection 2019 1 1 100\n"
          ],
          "name": "stdout"
        }
      ]
    },
    {
      "cell_type": "code",
      "metadata": {
        "id": "C-CyG9J7xxU3",
        "colab_type": "code",
        "colab": {
          "base_uri": "https://localhost:8080/",
          "height": 68
        },
        "outputId": "e26387bc-e7a1-4f85-c474-2f8ebca20fe8"
      },
      "source": [
        "for i in range(len(report)):\n",
        "  for j in range(len(report)):\n",
        "    if((sorted_Product[i]==sorted_Product[j])&(sorted_Year[i]>sorted_Year[j])):\n",
        "      sorted_Year[i],sorted_Year[j] = sorted_Year[j],sorted_Year[j]\n",
        "      sorted_Total_complains[i],sorted_Total_complains[j]= sorted_Total_complains[j], sorted_Total_complains[i]\n",
        "      sorted_Total_company[i],sorted_Total_company[j] = sorted_Total_company[j],sorted_Total_company[i]\n",
        "      sorted_max_frequency_company[i],sorted_max_frequency_company[j] = sorted_max_frequency_company[j], sorted_max_frequency_company[i]\n",
        "    else:\n",
        "      continue\n",
        "for i in range(len(report)):\n",
        "  print(sorted_Product[i],sorted_Year[i], sorted_Total_complains[i],sorted_Total_company[i],sorted_max_frequency_company[i])\n",
        "\n",
        "\n"
      ],
      "execution_count": 75,
      "outputs": [
        {
          "output_type": "stream",
          "text": [
            "Credit reporting, credit repair services, or other personal consumer reports 2019 1 1 100\n",
            "Credit reporting, credit repair services, or other personal consumer reports 2019 3 2 67\n",
            "Debt collection 2019 1 1 100\n"
          ],
          "name": "stdout"
        }
      ]
    }
  ]
}